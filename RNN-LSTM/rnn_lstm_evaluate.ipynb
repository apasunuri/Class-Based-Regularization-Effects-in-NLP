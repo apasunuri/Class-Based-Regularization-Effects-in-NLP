{
 "cells": [
  {
   "cell_type": "markdown",
   "metadata": {},
   "source": [
    "# RNN and LSTM Evaluation\n",
    "This notebook will evaluate trained RNN and LSTM models for the overal test loss and accuracy and class specific test loss and accuracy. It will load in the saved model files and the preprocessed data files to do the evaluation."
   ]
  },
  {
   "cell_type": "code",
   "execution_count": null,
   "metadata": {},
   "outputs": [],
   "source": [
    "import numpy as np\n",
    "import os\n",
    "import pickle\n",
    "import random\n",
    "import tensorflow as tf\n",
    "from dropconnect_tensorflow import DropConnect"
   ]
  },
  {
   "cell_type": "markdown",
   "metadata": {},
   "source": [
    "## Initialization"
   ]
  },
  {
   "cell_type": "code",
   "execution_count": null,
   "metadata": {},
   "outputs": [],
   "source": [
    "seed = 22\n",
    "os.environ['PYTHONHASHSEED'] = str(seed)\n",
    "random.seed(seed)\n",
    "np.random.seed(seed)\n",
    "tf.keras.utils.set_random_seed(seed)"
   ]
  },
  {
   "cell_type": "code",
   "execution_count": null,
   "metadata": {},
   "outputs": [],
   "source": [
    "save_path = './Saved Models'"
   ]
  },
  {
   "cell_type": "code",
   "execution_count": null,
   "metadata": {},
   "outputs": [],
   "source": [
    "weight_decays_l1 = [0.001, 0.01, 0.1]\n",
    "weight_decays_l2 = [0.001, 0.01, 0.1]\n",
    "dropout_rates = [0.1, 0.2, 0.3]\n",
    "dropconnect_rates = [0.1, 0.2, 0.3]"
   ]
  },
  {
   "cell_type": "code",
   "execution_count": null,
   "metadata": {},
   "outputs": [],
   "source": [
    "def get_metrics(X, y, parameters, batch_size, save_path, model_type, regularization_type, dataset):\n",
    "    model = tf.keras.models.load_model(f'{save_path}/{model_type}_l1_weight_decay_0_{dataset}.h5', custom_objects={'DropConnect': DropConnect})\n",
    "    metrics = model.evaluate(X, y, batch_size=batch_size)\n",
    "    losses = [metrics[0]]\n",
    "    accuracies = [metrics[1]]\n",
    "    for parameter in parameters:\n",
    "        model_file = f'{save_path}/{model_type}_{regularization_type}_{parameter}_{dataset}.h5'\n",
    "        model = tf.keras.models.load_model(model_file, custom_objects={'DropConnect': DropConnect})\n",
    "        metrics = model.evaluate(X, y, batch_size=batch_size)\n",
    "        losses.append(metrics[0])\n",
    "        accuracies.append(metrics[1])\n",
    "    return [losses, accuracies]"
   ]
  },
  {
   "cell_type": "code",
   "execution_count": null,
   "metadata": {},
   "outputs": [],
   "source": [
    "def get_class_metrics(X, y, parameters, batch_size, save_path, model_type, regularization_type, dataset):\n",
    "    num_classes = len(set(y))\n",
    "    metrics = get_metrics(X, y, parameters, batch_size, save_path, model_type, regularization_type, dataset)\n",
    "    print('total', metrics)\n",
    "    class_metrics = {'total': metrics}\n",
    "    for class_index in range(num_classes):\n",
    "        indices = np.where(y == class_index)[0]\n",
    "        X_class = X[indices]\n",
    "        y_class = y[indices]\n",
    "        metrics = get_metrics(X_class, y_class, parameters, batch_size, save_path, model_type, regularization_type, dataset)\n",
    "        class_metrics[class_index] = metrics\n",
    "        print(class_index, metrics)\n",
    "    with open(f'./Results/{model_type}_{regularization_type}_{dataset}.pickle', 'wb') as f:\n",
    "        pickle.dump(class_metrics, f)\n",
    "    return class_metrics"
   ]
  },
  {
   "cell_type": "markdown",
   "metadata": {},
   "source": [
    "## Patent Classification Dataset Evaluation"
   ]
  },
  {
   "cell_type": "code",
   "execution_count": null,
   "metadata": {},
   "outputs": [],
   "source": [
    "with open('./Temp Data/patent_classification.pickle', 'rb') as f:\n",
    "    data = pickle.load(f)\n",
    "X, y = data\n",
    "X_test, y_test = X[2], y[2]"
   ]
  },
  {
   "cell_type": "code",
   "execution_count": null,
   "metadata": {
    "scrolled": true
   },
   "outputs": [],
   "source": [
    "class_metrics = get_class_metrics(X_test, y_test, weight_decays_l1, 128, save_path, 'rnn', 'l1_weight_decay', 'patent_classification')"
   ]
  },
  {
   "cell_type": "code",
   "execution_count": null,
   "metadata": {
    "scrolled": true
   },
   "outputs": [],
   "source": [
    "class_metrics = get_class_metrics(X_test, y_test, weight_decays_l2, 128, save_path, 'rnn', 'l2_weight_decay', 'patent_classification')"
   ]
  },
  {
   "cell_type": "code",
   "execution_count": null,
   "metadata": {
    "scrolled": true
   },
   "outputs": [],
   "source": [
    "class_metrics = get_class_metrics(X_test, y_test, dropout_rates, 128, save_path, 'rnn', 'dropout', 'patent_classification')"
   ]
  },
  {
   "cell_type": "code",
   "execution_count": null,
   "metadata": {
    "scrolled": true
   },
   "outputs": [],
   "source": [
    "class_metrics = get_class_metrics(X_test, y_test, dropconnect_rates, 128, save_path, 'rnn', 'dropconnect', 'patent_classification')"
   ]
  },
  {
   "cell_type": "code",
   "execution_count": null,
   "metadata": {
    "scrolled": true
   },
   "outputs": [],
   "source": [
    "class_metrics = get_class_metrics(X_test, y_test, weight_decays_l1, 64, save_path, 'lstm', 'l1_weight_decay', 'patent_classification')"
   ]
  },
  {
   "cell_type": "code",
   "execution_count": null,
   "metadata": {
    "scrolled": true
   },
   "outputs": [],
   "source": [
    "class_metrics = get_class_metrics(X_test, y_test, weight_decays_l2, 64, save_path, 'lstm', 'l2_weight_decay', 'patent_classification')"
   ]
  },
  {
   "cell_type": "code",
   "execution_count": null,
   "metadata": {
    "scrolled": true
   },
   "outputs": [],
   "source": [
    "class_metrics = get_class_metrics(X_test, y_test, dropout_rates, 64, save_path, 'lstm', 'dropout', 'patent_classification')"
   ]
  },
  {
   "cell_type": "code",
   "execution_count": null,
   "metadata": {
    "scrolled": true
   },
   "outputs": [],
   "source": [
    "class_metrics = get_class_metrics(X_test, y_test, dropconnect_rates, 64, save_path, 'lstm', 'dropconnect', 'patent_classification')"
   ]
  },
  {
   "cell_type": "markdown",
   "metadata": {},
   "source": [
    "## Bankings77 Dataset Evaluation"
   ]
  },
  {
   "cell_type": "code",
   "execution_count": null,
   "metadata": {},
   "outputs": [],
   "source": [
    "with open('./Temp Data/bankings_77.pickle', 'rb') as f:\n",
    "    data = pickle.load(f)\n",
    "X, y = data\n",
    "X_test, y_test = X[2], y[2]"
   ]
  },
  {
   "cell_type": "code",
   "execution_count": null,
   "metadata": {
    "scrolled": true
   },
   "outputs": [],
   "source": [
    "class_metrics = get_class_metrics(X_test, y_test, weight_decays_l1, 128, save_path, 'rnn', 'l1_weight_decay', 'bankings_77')"
   ]
  },
  {
   "cell_type": "code",
   "execution_count": null,
   "metadata": {
    "scrolled": true
   },
   "outputs": [],
   "source": [
    "class_metrics = get_class_metrics(X_test, y_test, weight_decays_l2, 128, save_path, 'rnn', 'l2_weight_decay', 'bankings_77')"
   ]
  },
  {
   "cell_type": "code",
   "execution_count": null,
   "metadata": {
    "scrolled": true
   },
   "outputs": [],
   "source": [
    "class_metrics = get_class_metrics(X_test, y_test, dropout_rates, 128, save_path, 'rnn', 'dropout', 'bankings_77')"
   ]
  },
  {
   "cell_type": "code",
   "execution_count": null,
   "metadata": {
    "scrolled": true
   },
   "outputs": [],
   "source": [
    "class_metrics = get_class_metrics(X_test, y_test, dropconnect_rates, 128, save_path, 'rnn', 'dropconnect', 'bankings_77')"
   ]
  },
  {
   "cell_type": "code",
   "execution_count": null,
   "metadata": {
    "scrolled": true
   },
   "outputs": [],
   "source": [
    "class_metrics = get_class_metrics(X_test, y_test, weight_decays_l1, 64, save_path, 'lstm', 'l1_weight_decay', 'bankings_77')"
   ]
  },
  {
   "cell_type": "code",
   "execution_count": null,
   "metadata": {
    "scrolled": true
   },
   "outputs": [],
   "source": [
    "class_metrics = get_class_metrics(X_test, y_test, weight_decays_l2, 64, save_path, 'lstm', 'l2_weight_decay', 'bankings_77')"
   ]
  },
  {
   "cell_type": "code",
   "execution_count": null,
   "metadata": {
    "scrolled": true
   },
   "outputs": [],
   "source": [
    "class_metrics = get_class_metrics(X_test, y_test, dropout_rates, 64, save_path, 'lstm', 'dropout', 'bankings_77')"
   ]
  },
  {
   "cell_type": "code",
   "execution_count": null,
   "metadata": {
    "scrolled": true
   },
   "outputs": [],
   "source": [
    "class_metrics = get_class_metrics(X_test, y_test, dropconnect_rates, 64, save_path, 'lstm', 'dropconnect', 'bankings_77')"
   ]
  }
 ],
 "metadata": {
  "kernelspec": {
   "display_name": "Python 3",
   "language": "python",
   "name": "python3"
  },
  "language_info": {
   "codemirror_mode": {
    "name": "ipython",
    "version": 3
   },
   "file_extension": ".py",
   "mimetype": "text/x-python",
   "name": "python",
   "nbconvert_exporter": "python",
   "pygments_lexer": "ipython3",
   "version": "3.7.4"
  },
  "toc": {
   "base_numbering": 1,
   "nav_menu": {},
   "number_sections": true,
   "sideBar": true,
   "skip_h1_title": false,
   "title_cell": "Table of Contents",
   "title_sidebar": "Contents",
   "toc_cell": false,
   "toc_position": {},
   "toc_section_display": true,
   "toc_window_display": false
  },
  "varInspector": {
   "cols": {
    "lenName": 16,
    "lenType": 16,
    "lenVar": 40
   },
   "kernels_config": {
    "python": {
     "delete_cmd_postfix": "",
     "delete_cmd_prefix": "del ",
     "library": "var_list.py",
     "varRefreshCmd": "print(var_dic_list())"
    },
    "r": {
     "delete_cmd_postfix": ") ",
     "delete_cmd_prefix": "rm(",
     "library": "var_list.r",
     "varRefreshCmd": "cat(var_dic_list()) "
    }
   },
   "types_to_exclude": [
    "module",
    "function",
    "builtin_function_or_method",
    "instance",
    "_Feature"
   ],
   "window_display": false
  }
 },
 "nbformat": 4,
 "nbformat_minor": 5
}
