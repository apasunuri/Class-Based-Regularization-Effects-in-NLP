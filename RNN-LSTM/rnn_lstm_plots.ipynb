{
 "cells": [
  {
   "cell_type": "markdown",
   "metadata": {},
   "source": [
    "# RNN and LSTM Plots\n",
    "This notebook will load in the different test set evaluation metrics and plot the results for different regularization parameters. Specific classes are set to plot the data and the overall test loss for the different setting of the regularization parameters."
   ]
  },
  {
   "cell_type": "code",
   "execution_count": null,
   "metadata": {},
   "outputs": [],
   "source": [
    "import matplotlib.pyplot as plt\n",
    "import pickle"
   ]
  },
  {
   "cell_type": "markdown",
   "metadata": {},
   "source": [
    "## Initialization"
   ]
  },
  {
   "cell_type": "code",
   "execution_count": null,
   "metadata": {},
   "outputs": [],
   "source": [
    "def make_plot(d, x_axis_values, x_axis_title, class_indices, class_names, plot_title, file_name):\n",
    "    fig, ax = plt.subplots()\n",
    "    plt.plot(x_axis_values, d['total'][0], label='Base Model', marker='o')\n",
    "    plt.plot(x_axis_values, d[class_indices[0]][0], label=class_names[class_indices[0]], marker='o')\n",
    "    plt.plot(x_axis_values, d[class_indices[1]][0], label=class_names[class_indices[1]], marker='o')\n",
    "    ax.set_xlim(0)\n",
    "    if x_axis_title == 'L1 Weight Decay' or x_axis_title == 'L2 Weight Decay':\n",
    "        plt.xticks(x_axis_values, ['', '0.001', '0.01', '0.1'])\n",
    "    else:\n",
    "        plt.xticks(x_axis_values, ['', '0.1', '0.2', '0.3'])\n",
    "    plt.xlabel(x_axis_title)\n",
    "    plt.ylabel('Loss')\n",
    "    plt.title(plot_title)\n",
    "    plt.legend()\n",
    "    plt.tight_layout()\n",
    "    plt.savefig(f'./Figures/{file_name}')\n",
    "    plt.show()"
   ]
  },
  {
   "cell_type": "code",
   "execution_count": null,
   "metadata": {},
   "outputs": [],
   "source": [
    "patent_classification_classes = ['Chemistry; Metallurgy', 'Electricity', 'Fixed Constructions', 'General tagging of new or cross-sectional technology', 'Human Necessities', 'Mechanical Engineering; Lightning; Heating; Weapons; Blasting', 'Performing Operations; Transporting', 'Physics', 'Textiles; Paper']"
   ]
  },
  {
   "cell_type": "code",
   "execution_count": null,
   "metadata": {},
   "outputs": [],
   "source": [
    "bankings_77_classes = [\n",
    "    'Refund_not_showing_up', \n",
    "    'activate_my_card', \n",
    "    'age_limit',\n",
    "    'apple_pay_or_google_pay', \n",
    "    'atm_support', \n",
    "    'automatic_top_up',\n",
    "    'balance_not_updated_after_bank_transfer',\n",
    "    'balance_not_updated_after_cheque_or_cash_deposit',\n",
    "    'beneficiary_not_allowed', \n",
    "    'cancel_transfer', \n",
    "    'card_about_to_expire',\n",
    "    'card_acceptance', \n",
    "    'card_arrival', \n",
    "    'card_delivery_estimate', \n",
    "    'card_linking',\n",
    "    'card_not_working', \n",
    "    'card_payment_fee_charged',\n",
    "    'card_payment_not_recognised', \n",
    "    'card_payment_wrong_exchange_rate',\n",
    "    'card_swallowed', \n",
    "    'cash_withdrawal_charge',\n",
    "    'cash_withdrawal_not_recognised', \n",
    "    'change_pin', \n",
    "    'compromised_card',\n",
    "    'contactless_not_working', \n",
    "    'country_support', \n",
    "    'declined_card_payment',\n",
    "    'declined_cash_withdrawal', \n",
    "    'declined_transfer',\n",
    "    'direct_debit_payment_not_recognised', \n",
    "    'disposable_card_limits',\n",
    "    'edit_personal_details', \n",
    "    'exchange_charge', \n",
    "    'exchange_rate',\n",
    "    'exchange_via_app', \n",
    "    'extra_charge_on_statement', \n",
    "    'failed_transfer',\n",
    "    'fiat_currency_support', \n",
    "    'get_disposable_virtual_card', \n",
    "    'get_physical_card',\n",
    "    'getting_spare_card', \n",
    "    'getting_virtual_card', \n",
    "    'lost_or_stolen_card',\n",
    "    'lost_or_stolen_phone', \n",
    "    'order_physical_card', \n",
    "    'passcode_forgotten',\n",
    "    'pending_card_payment', \n",
    "    'pending_cash_withdrawal', \n",
    "    'pending_top_up',\n",
    "    'pending_transfer', \n",
    "    'pin_blocked', \n",
    "    'receiving_money', \n",
    "    'request_refund',\n",
    "    'reverted_card_payment?', \n",
    "    'supported_cards_and_currencies',\n",
    "    'terminate_account', \n",
    "    'top_up_by_bank_transfer_charge',\n",
    "    'top_up_by_card_charge', \n",
    "    'top_up_by_cash_or_cheque', \n",
    "    'top_up_failed',\n",
    "    'top_up_limits', \n",
    "    'top_up_reverted', \n",
    "    'topping_up_by_card',\n",
    "    'transaction_charged_twice', \n",
    "    'transfer_fee_charged',\n",
    "    'transfer_into_account', \n",
    "    'transfer_not_received_by_recipient',\n",
    "    'transfer_timing', \n",
    "    'unable_to_verify_identity', \n",
    "    'verify_my_identity',\n",
    "    'verify_source_of_funds', \n",
    "    'verify_top_up', \n",
    "    'virtual_card_not_working',\n",
    "    'visa_or_mastercard', \n",
    "    'why_verify_identity', \n",
    "    'wrong_amount_of_cash_received', \n",
    "    'wrong_exchange_rate_for_cash_withdrawal'\n",
    "]"
   ]
  },
  {
   "cell_type": "code",
   "execution_count": null,
   "metadata": {},
   "outputs": [],
   "source": [
    "weight_decays_l1 = [0, 0.001, 0.01, 0.1]\n",
    "weight_decays_l2 = [0, 0.001, 0.01, 0.1]\n",
    "dropout_rates = [0, 0.1, 0.2, 0.3]\n",
    "dropconnect_rates = [0, 0.1, 0.2, 0.3]"
   ]
  },
  {
   "cell_type": "markdown",
   "metadata": {},
   "source": [
    "## Patent Classification Dataset Plots"
   ]
  },
  {
   "cell_type": "code",
   "execution_count": null,
   "metadata": {},
   "outputs": [],
   "source": [
    "# Classes follow same trend no specific biases\n",
    "with open('./Results/rnn_l1_weight_decay_patent_classification.pickle', 'rb') as f:\n",
    "    rnn_l1_patent = pickle.load(f)\n",
    "make_plot(rnn_l1_patent, weight_decays_l1, 'L1 Weight Decay', [1, 5], patent_classification_classes, 'RNN Patent Classification L1 Weight Decay', 'rnn_patent_l1')"
   ]
  },
  {
   "cell_type": "code",
   "execution_count": null,
   "metadata": {},
   "outputs": [],
   "source": [
    "# Classes follow same trend no specific biases\n",
    "with open('./Results/rnn_l2_weight_decay_patent_classification.pickle', 'rb') as f:\n",
    "    rnn_l2_patent = pickle.load(f)\n",
    "make_plot(rnn_l2_patent, weight_decays_l2, 'L2 Weight Decay', [0, 3], patent_classification_classes, 'RNN Patent Classification L2 Weight Decay', 'rnn_patent_l2')"
   ]
  },
  {
   "cell_type": "code",
   "execution_count": null,
   "metadata": {},
   "outputs": [],
   "source": [
    "# Overall loss goes down\n",
    "# Does display some levels of class bias with one class following same trend and other class loss going up\n",
    "# Class 1 down\n",
    "# Class 7 up\n",
    "with open('./Results/rnn_dropout_patent_classification.pickle', 'rb') as f:\n",
    "    rnn_dropout_patent = pickle.load(f)\n",
    "make_plot(rnn_dropout_patent, dropout_rates, 'Dropout', [1, 7], patent_classification_classes, 'RNN Patent Classification Dropout', 'rnn_patent_dropout')"
   ]
  },
  {
   "cell_type": "code",
   "execution_count": null,
   "metadata": {},
   "outputs": [],
   "source": [
    "# Does display some levels of class bias with one class going up and one class going down while overall loss follows different trend\n",
    "# Class 7 loss goes up\n",
    "# Class 6 loss goes down\n",
    "with open('./Results/rnn_dropconnect_patent_classification.pickle', 'rb') as f:\n",
    "    rnn_dropconnect_patent = pickle.load(f)\n",
    "make_plot(rnn_dropconnect_patent, dropconnect_rates, 'DropConnect', [6, 7], patent_classification_classes, 'RNN Patent Classification DropConnect', 'rnn_patent_dropconnect')"
   ]
  },
  {
   "cell_type": "code",
   "execution_count": null,
   "metadata": {},
   "outputs": [],
   "source": [
    "# Classes follow overall same trend no specific biases towards increasing and decreasing\n",
    "# Class 4 same trend\n",
    "# Class 5 same trend\n",
    "with open('./Results/lstm_l1_weight_decay_patent_classification.pickle', 'rb') as f:\n",
    "    lstm_l1_patent = pickle.load(f)\n",
    "make_plot(lstm_l1_patent, weight_decays_l1, 'L1 Weight Decay', [4, 5], patent_classification_classes, 'LSTM Patent Classification L1 Weight Decay', 'lstm_patent_l1')"
   ]
  },
  {
   "cell_type": "code",
   "execution_count": null,
   "metadata": {},
   "outputs": [],
   "source": [
    "# Overall down classes follow same trend no specific biases\n",
    "# Class 1 down\n",
    "# Class 3 down\n",
    "with open('./Results/lstm_l2_weight_decay_patent_classification.pickle', 'rb') as f:\n",
    "    lstm_l2_patent = pickle.load(f)\n",
    "make_plot(lstm_l2_patent, weight_decays_l2, 'L2 Weight Decay', [1, 3], patent_classification_classes, 'LSTM Patent Classification L2 Weight Decay', 'lstm_patent_l2')"
   ]
  },
  {
   "cell_type": "code",
   "execution_count": null,
   "metadata": {},
   "outputs": [],
   "source": [
    "# Overall down classes follow same trend no specific biases\n",
    "# Class 1 down\n",
    "# Class 6 down\n",
    "with open('./Results/lstm_dropout_patent_classification.pickle', 'rb') as f:\n",
    "    lstm_dropout_patent = pickle.load(f)\n",
    "make_plot(lstm_dropout_patent, dropout_rates, 'Dropout', [1, 6], patent_classification_classes, 'LSTM Patent Classification Dropout', 'lstm_patent_dropout')"
   ]
  },
  {
   "cell_type": "code",
   "execution_count": null,
   "metadata": {
    "scrolled": true
   },
   "outputs": [],
   "source": [
    "# Classes follow overall same trend no specific biases towards increasing and decreasing\n",
    "# Class 0 same trend\n",
    "# Class 5 same trend\n",
    "with open('./Results/lstm_dropconnect_patent_classification.pickle', 'rb') as f:\n",
    "    lstm_dropconnect_patent = pickle.load(f)\n",
    "make_plot(lstm_dropconnect_patent, dropconnect_rates, 'DropConnect', [0, 5], patent_classification_classes, 'LSTM Patent Classification DropConnect', 'lstm_patent_dropconnect')"
   ]
  },
  {
   "cell_type": "markdown",
   "metadata": {},
   "source": [
    "## Bankings77 Dataset Plot"
   ]
  },
  {
   "cell_type": "code",
   "execution_count": null,
   "metadata": {},
   "outputs": [],
   "source": [
    "# Only up\n",
    "# Class 5 up a lot\n",
    "# Class 10 up less\n",
    "with open('./Results/rnn_l1_weight_decay_bankings_77.pickle', 'rb') as f:\n",
    "    rnn_l1_bankings = pickle.load(f)\n",
    "make_plot(rnn_l1_bankings, weight_decays_l1, 'L1 Weight Decay', [5, 10], bankings_77_classes, 'RNN Bankings77 L1 Weight Decay', 'rnn_bankings_l1')"
   ]
  },
  {
   "cell_type": "code",
   "execution_count": null,
   "metadata": {},
   "outputs": [],
   "source": [
    "# Only up\n",
    "# Class 7 up less\n",
    "# Class 26 up a lot\n",
    "with open('./Results/rnn_l2_weight_decay_bankings_77.pickle', 'rb') as f:\n",
    "    rnn_l2_bankings = pickle.load(f)\n",
    "make_plot(rnn_l2_bankings, weight_decays_l2, 'L2 Weight Decay', [7, 26], bankings_77_classes, 'RNN Bankings77 L2 Weight Decay', 'rnn_bankings_l2')"
   ]
  },
  {
   "cell_type": "code",
   "execution_count": null,
   "metadata": {},
   "outputs": [],
   "source": [
    "# Class 47 up\n",
    "# Class 31 Down\n",
    "with open('./Results/rnn_dropout_bankings_77.pickle', 'rb') as f:\n",
    "    rnn_dropout_bankings = pickle.load(f)\n",
    "make_plot(rnn_dropout_bankings, dropout_rates, 'Dropout', [31, 47], bankings_77_classes, 'RNN Bankings77 Dropout', 'rnn_bankings_dropout')"
   ]
  },
  {
   "cell_type": "code",
   "execution_count": null,
   "metadata": {},
   "outputs": [],
   "source": [
    "# Class 14 down\n",
    "# Class 17 up\n",
    "with open('./Results/rnn_dropconnect_bankings_77.pickle', 'rb') as f:\n",
    "    rnn_dropconnect_bankings = pickle.load(f)\n",
    "make_plot(rnn_dropconnect_bankings, dropconnect_rates, 'DropConnect', [14, 17], bankings_77_classes, 'RNN Bankings77 DropConnect', 'rnn_bankings_dropconnect')"
   ]
  },
  {
   "cell_type": "code",
   "execution_count": null,
   "metadata": {},
   "outputs": [],
   "source": [
    "# No Class Bias follow same trend\n",
    "# Class 2 up\n",
    "# Class 3 up\n",
    "# Class 64 down\n",
    "with open('./Results/lstm_l1_weight_decay_bankings_77.pickle', 'rb') as f:\n",
    "    lstm_l1_bankings = pickle.load(f)\n",
    "make_plot(lstm_l1_bankings, weight_decays_l1, 'L1 Weight Decay', [2, 64], bankings_77_classes, 'LSTM Bankings77 L1 Weight Decay', 'lstm_bankings_l1')"
   ]
  },
  {
   "cell_type": "code",
   "execution_count": null,
   "metadata": {},
   "outputs": [],
   "source": [
    "# Class 2\n",
    "# Class 59\n",
    "with open('./Results/lstm_l2_weight_decay_bankings_77.pickle', 'rb') as f:\n",
    "    lstm_l2_bankings = pickle.load(f)\n",
    "make_plot(lstm_l2_bankings, weight_decays_l2, 'L2 Weight Decay', [2, 59], bankings_77_classes, 'LSTM Bankings77 L2 Weight Decay', 'lstm_bankings_l2')"
   ]
  },
  {
   "cell_type": "code",
   "execution_count": null,
   "metadata": {},
   "outputs": [],
   "source": [
    "with open('./Results/lstm_dropout_bankings_77.pickle', 'rb') as f:\n",
    "    lstm_dropout_bankings = pickle.load(f)\n",
    "make_plot(lstm_dropout_bankings, dropout_rates, 'Dropout', [22, 38], bankings_77_classes, 'LSTM Bankings77 Dropout', 'lstm_bankings_dropout')"
   ]
  },
  {
   "cell_type": "code",
   "execution_count": null,
   "metadata": {},
   "outputs": [],
   "source": [
    "with open('./Results/lstm_dropconnect_bankings_77.pickle', 'rb') as f:\n",
    "    lstm_dropconnect_bankings = pickle.load(f)\n",
    "make_plot(lstm_dropconnect_bankings, dropconnect_rates, 'DropConnect', [43, 74], bankings_77_classes, 'LSTM Bankings77 DropConnect', 'lstm_bankings_dropconnect')"
   ]
  }
 ],
 "metadata": {
  "kernelspec": {
   "display_name": "Python 3",
   "language": "python",
   "name": "python3"
  },
  "language_info": {
   "codemirror_mode": {
    "name": "ipython",
    "version": 3
   },
   "file_extension": ".py",
   "mimetype": "text/x-python",
   "name": "python",
   "nbconvert_exporter": "python",
   "pygments_lexer": "ipython3",
   "version": "3.7.4"
  },
  "toc": {
   "base_numbering": 1,
   "nav_menu": {},
   "number_sections": true,
   "sideBar": true,
   "skip_h1_title": false,
   "title_cell": "Table of Contents",
   "title_sidebar": "Contents",
   "toc_cell": false,
   "toc_position": {},
   "toc_section_display": true,
   "toc_window_display": false
  },
  "varInspector": {
   "cols": {
    "lenName": 16,
    "lenType": 16,
    "lenVar": 40
   },
   "kernels_config": {
    "python": {
     "delete_cmd_postfix": "",
     "delete_cmd_prefix": "del ",
     "library": "var_list.py",
     "varRefreshCmd": "print(var_dic_list())"
    },
    "r": {
     "delete_cmd_postfix": ") ",
     "delete_cmd_prefix": "rm(",
     "library": "var_list.r",
     "varRefreshCmd": "cat(var_dic_list()) "
    }
   },
   "types_to_exclude": [
    "module",
    "function",
    "builtin_function_or_method",
    "instance",
    "_Feature"
   ],
   "window_display": false
  }
 },
 "nbformat": 4,
 "nbformat_minor": 4
}
